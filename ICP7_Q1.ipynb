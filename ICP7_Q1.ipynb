{
  "nbformat": 4,
  "nbformat_minor": 0,
  "metadata": {
    "colab": {
      "name": "text_classification.ipynb",
      "provenance": [],
      "collapsed_sections": [],
      "toc_visible": true
    },
    "kernelspec": {
      "name": "python3",
      "display_name": "Python 3"
    }
  },
  "cells": [
    {
      "cell_type": "code",
      "metadata": {
        "id": "YZ6pNkwj5bPf"
      },
      "source": [
        "from sklearn.datasets import fetch_20newsgroups\n",
        "\n",
        "from sklearn.feature_extraction.text import CountVectorizer, TfidfVectorizer\n",
        "from sklearn.feature_extraction.text import TfidfTransformer\n",
        "from sklearn import metrics\n",
        "from sklearn.pipeline import Pipeline\n",
        "from sklearn.naive_bayes import MultinomialNB"
      ],
      "execution_count": 1,
      "outputs": []
    },
    {
      "cell_type": "code",
      "metadata": {
        "id": "rDJ_LuMK56-F"
      },
      "source": [
        "twenty_train = fetch_20newsgroups(subset='train', shuffle=True)"
      ],
      "execution_count": 2,
      "outputs": []
    },
    {
      "cell_type": "code",
      "metadata": {
        "id": "QF61mPSh59hT",
        "colab": {
          "base_uri": "https://localhost:8080/"
        },
        "outputId": "ef5cc647-7f48-402d-fe85-44e7c499434f"
      },
      "source": [
        "tfidf_Vect = TfidfVectorizer()\n",
        "X_train_tfidf = tfidf_Vect.fit_transform(twenty_train.data)\n",
        "\n",
        "clf = MultinomialNB()\n",
        "clf.fit(X_train_tfidf, twenty_train.target)"
      ],
      "execution_count": 3,
      "outputs": [
        {
          "output_type": "execute_result",
          "data": {
            "text/plain": [
              "MultinomialNB()"
            ]
          },
          "metadata": {},
          "execution_count": 3
        }
      ]
    },
    {
      "cell_type": "code",
      "metadata": {
        "id": "8ssbDU7p6AWH"
      },
      "source": [
        "twenty_test = fetch_20newsgroups(subset='test', shuffle=True)"
      ],
      "execution_count": 4,
      "outputs": []
    },
    {
      "cell_type": "code",
      "metadata": {
        "id": "sjVlq5up6F3R"
      },
      "source": [
        "X_test_tfidf = tfidf_Vect.transform(twenty_test.data)"
      ],
      "execution_count": 5,
      "outputs": []
    },
    {
      "cell_type": "code",
      "metadata": {
        "id": "TQfLohRJjzFw"
      },
      "source": [
        "predicted = clf.predict(X_test_tfidf)"
      ],
      "execution_count": 6,
      "outputs": []
    },
    {
      "cell_type": "code",
      "metadata": {
        "id": "rSW8Aw1ljzJH",
        "colab": {
          "base_uri": "https://localhost:8080/"
        },
        "outputId": "5f6d81da-0bb4-4d75-e0c8-df115678986e"
      },
      "source": [
        "score = metrics.accuracy_score(twenty_test.target, predicted)\n",
        "print(score)"
      ],
      "execution_count": 7,
      "outputs": [
        {
          "output_type": "stream",
          "name": "stdout",
          "text": [
            "0.7738980350504514\n"
          ]
        }
      ]
    },
    {
      "cell_type": "markdown",
      "source": [
        "# SVM implementation and its Classification report"
      ],
      "metadata": {
        "id": "bTQew96BL-5y"
      }
    },
    {
      "cell_type": "code",
      "metadata": {
        "id": "6vZ1AOiVQNXs",
        "colab": {
          "base_uri": "https://localhost:8080/"
        },
        "outputId": "30090427-b6c5-4542-c9ca-3ce800169618"
      },
      "source": [
        "from sklearn.svm import SVC,LinearSVC\n",
        "from sklearn import metrics\n",
        "\n",
        "svc = LinearSVC()\n",
        "\n",
        "svc.fit(X_train_tfidf, twenty_train.target)\n",
        "\n",
        "Y_Pred = svc.predict(X_test_tfidf)\n",
        "\n",
        "# Finding the accuracy of SVM model\n",
        "acc_svc = round(metrics.accuracy_score(twenty_test.target, Y_Pred) * 100, 2)\n",
        "print(\"SVM accuracy is:\",acc_svc)\n",
        "\n",
        "# Classification report for SVM algorithm\n",
        "print(\n",
        "    f\"Classification report for classifier {svc}:\\n\"\n",
        "    f\"{metrics.classification_report(twenty_test.target, Y_Pred)}\\n\"\n",
        ")"
      ],
      "execution_count": 8,
      "outputs": [
        {
          "output_type": "stream",
          "name": "stdout",
          "text": [
            "SVM accuracy is: 85.32\n",
            "Classification report for classifier LinearSVC():\n",
            "              precision    recall  f1-score   support\n",
            "\n",
            "           0       0.82      0.80      0.81       319\n",
            "           1       0.76      0.80      0.78       389\n",
            "           2       0.77      0.73      0.75       394\n",
            "           3       0.71      0.76      0.74       392\n",
            "           4       0.84      0.86      0.85       385\n",
            "           5       0.87      0.76      0.81       395\n",
            "           6       0.83      0.91      0.87       390\n",
            "           7       0.92      0.91      0.91       396\n",
            "           8       0.95      0.95      0.95       398\n",
            "           9       0.92      0.95      0.93       397\n",
            "          10       0.96      0.98      0.97       399\n",
            "          11       0.93      0.94      0.93       396\n",
            "          12       0.81      0.79      0.80       393\n",
            "          13       0.90      0.87      0.88       396\n",
            "          14       0.90      0.93      0.92       394\n",
            "          15       0.84      0.93      0.88       398\n",
            "          16       0.75      0.92      0.82       364\n",
            "          17       0.97      0.89      0.93       376\n",
            "          18       0.82      0.62      0.71       310\n",
            "          19       0.75      0.61      0.68       251\n",
            "\n",
            "    accuracy                           0.85      7532\n",
            "   macro avg       0.85      0.85      0.85      7532\n",
            "weighted avg       0.85      0.85      0.85      7532\n",
            "\n",
            "\n"
          ]
        }
      ]
    },
    {
      "cell_type": "markdown",
      "source": [
        "# KNN implementation and its Classification report"
      ],
      "metadata": {
        "id": "6zlCiAqNOU0x"
      }
    },
    {
      "cell_type": "code",
      "source": [
        "from sklearn.neighbors import KNeighborsClassifier\n",
        "\n",
        "# Used th KNN model with nearest neighbor = 3\n",
        "knn = KNeighborsClassifier(n_neighbors = 3)\n",
        "knn.fit(X_train_tfidf, twenty_train.target)\n",
        "Y_Pred = knn.predict(X_test_tfidf)\n",
        "\n",
        "# Finding the accuracy of KNN model\n",
        "acc_knn = round(metrics.accuracy_score(twenty_test.target, Y_Pred) * 100, 2)\n",
        "print(\"knn accuracy is:\",acc_knn)\n",
        "\n",
        "# Classification report for KNN algorithm\n",
        "print(\n",
        "    f\"Classification report for classifier {knn}:\\n\"\n",
        "    f\"{metrics.classification_report(twenty_test.target, Y_Pred)}\\n\"\n",
        ")"
      ],
      "metadata": {
        "id": "nOnahOmC-cTf",
        "colab": {
          "base_uri": "https://localhost:8080/"
        },
        "outputId": "d145def7-d035-408b-f3f8-29005ea9ec36"
      },
      "execution_count": 9,
      "outputs": [
        {
          "output_type": "stream",
          "name": "stdout",
          "text": [
            "knn accuracy is: 65.79\n",
            "Classification report for classifier KNeighborsClassifier(n_neighbors=3):\n",
            "              precision    recall  f1-score   support\n",
            "\n",
            "           0       0.43      0.75      0.54       319\n",
            "           1       0.45      0.65      0.53       389\n",
            "           2       0.52      0.56      0.54       394\n",
            "           3       0.52      0.62      0.57       392\n",
            "           4       0.55      0.58      0.56       385\n",
            "           5       0.69      0.59      0.64       395\n",
            "           6       0.59      0.48      0.53       390\n",
            "           7       0.75      0.68      0.71       396\n",
            "           8       0.83      0.80      0.82       398\n",
            "           9       0.77      0.75      0.76       397\n",
            "          10       0.88      0.82      0.85       399\n",
            "          11       0.74      0.83      0.78       396\n",
            "          12       0.72      0.47      0.57       393\n",
            "          13       0.78      0.51      0.62       396\n",
            "          14       0.81      0.77      0.79       394\n",
            "          15       0.80      0.72      0.76       398\n",
            "          16       0.72      0.72      0.72       364\n",
            "          17       0.70      0.72      0.71       376\n",
            "          18       0.60      0.56      0.58       310\n",
            "          19       0.62      0.51      0.56       251\n",
            "\n",
            "    accuracy                           0.66      7532\n",
            "   macro avg       0.67      0.65      0.66      7532\n",
            "weighted avg       0.68      0.66      0.66      7532\n",
            "\n",
            "\n"
          ]
        }
      ]
    },
    {
      "cell_type": "markdown",
      "source": [
        "# Implementing SVM algorithm with bigram and finding the accuracy change"
      ],
      "metadata": {
        "id": "bSmdnnp-iTRs"
      }
    },
    {
      "cell_type": "code",
      "source": [
        "tfidf_Vect_new = TfidfVectorizer(ngram_range=(1, 2))\n",
        "X_train_tfidf = tfidf_Vect_new.fit_transform(twenty_train.data)\n",
        "\n",
        "twenty_test = fetch_20newsgroups(subset='test', shuffle=True)\n",
        "X_test_tfidf = tfidf_Vect_new.transform(twenty_test.data)\n",
        "\n",
        "# Using the SVM model\n",
        "svc = LinearSVC()\n",
        "svc.fit(X_train_tfidf, twenty_train.target)\n",
        "\n",
        "# Predicting the values using SVM model\n",
        "Y_Pred = svc.predict(X_test_tfidf)\n",
        "\n",
        "# Finding the accuracy of SVM model when used with bigrams\n",
        "acc_svc = round(metrics.accuracy_score(twenty_test.target, Y_Pred) * 100, 2)\n",
        "print(\"SVM accuracy is:\",acc_svc)"
      ],
      "metadata": {
        "id": "X2wd_a-7AhdD",
        "colab": {
          "base_uri": "https://localhost:8080/"
        },
        "outputId": "72e19180-2fcc-4063-d9a9-626e7964e17a"
      },
      "execution_count": 10,
      "outputs": [
        {
          "output_type": "stream",
          "name": "stdout",
          "text": [
            "SVM accuracy is: 85.74\n"
          ]
        }
      ]
    },
    {
      "cell_type": "markdown",
      "source": [
        "On observation, Accuracy changes from 85.32 to 85.74 with bigram"
      ],
      "metadata": {
        "id": "Gqo-xdDgpVut"
      }
    },
    {
      "cell_type": "markdown",
      "source": [
        "# Implementing the SVM algorithm with tfidf vectorizer argument using stop words = 'english'"
      ],
      "metadata": {
        "id": "h3am6Qm9fo5I"
      }
    },
    {
      "cell_type": "code",
      "source": [
        "tfidf_Vect_new = TfidfVectorizer(stop_words = 'english')\n",
        "X_train_tfidf = tfidf_Vect_new.fit_transform(twenty_train.data)\n",
        "\n",
        "twenty_test = fetch_20newsgroups(subset='test', shuffle=True)\n",
        "X_test_tfidf = tfidf_Vect_new.transform(twenty_test.data)\n",
        "\n",
        "svc = LinearSVC()\n",
        "svc.fit(X_train_tfidf,twenty_train.target)\n",
        "\n",
        "Y_Pred = svc.predict(X_test_tfidf)\n",
        "\n",
        "acc_svc = round(metrics.accuracy_score(twenty_test.target, Y_Pred) * 100,2)\n",
        "print(\"SVM Accuracy is:\",acc_svc)"
      ],
      "metadata": {
        "colab": {
          "base_uri": "https://localhost:8080/"
        },
        "id": "nG52OaY1flRt",
        "outputId": "a129c09c-4b59-4857-db0d-2ca67ce85e5f"
      },
      "execution_count": 11,
      "outputs": [
        {
          "output_type": "stream",
          "name": "stdout",
          "text": [
            "SVM Accuracy is: 85.1\n"
          ]
        }
      ]
    },
    {
      "cell_type": "markdown",
      "source": [
        "On observation, Accuracy changes from 85.32 to 85.1 "
      ],
      "metadata": {
        "id": "zp8qnvKQpwti"
      }
    }
  ]
}